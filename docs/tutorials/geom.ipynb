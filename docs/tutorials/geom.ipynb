{
 "cells": [
  {
   "cell_type": "markdown",
   "metadata": {},
   "source": [
    "# Working with maps.Geom objects"
   ]
  },
  {
   "cell_type": "code",
   "execution_count": null,
   "metadata": {},
   "outputs": [],
   "source": [
    "import numpy as np\n",
    "import astropy.units as u"
   ]
  },
  {
   "cell_type": "markdown",
   "metadata": {},
   "source": [
    "## Non spatial axes\n",
    "\n",
    "Non-spatial axes are represented by the `~gammapy.maps.MapAxis` class. \n",
    "\n",
    "A `MapAxis` can describe quantities defined at bin centers or quantities \n",
    "integrated between bin edges.\n",
    "This is specified by the `MapAxis``node_type`. Factory methods `~gammapy.maps.MapAxis.from_nodes()` and `~gammapy.maps.MapAxis.from_edges()` \n",
    "allow to build respectively differential and integrated quantity axes \n"
   ]
  },
  {
   "cell_type": "markdown",
   "metadata": {},
   "source": [
    "### Edges defined axis"
   ]
  },
  {
   "cell_type": "code",
   "execution_count": null,
   "metadata": {},
   "outputs": [],
   "source": [
    "from gammapy.maps import MapAxis\n",
    "\n",
    "values = np.linspace(0,5,11)*u.deg\n",
    "\n",
    "axis_edges = MapAxis.from_edges(values, name=\"edges\")\n",
    "print(axis_edges)\n",
    "\n",
    "print(f\"Axis bin centers: {axis_edges.center}\")\n",
    "print(f\"Axis bin edges: {axis_edges.edges}\")"
   ]
  },
  {
   "cell_type": "markdown",
   "metadata": {},
   "source": [
    "### Node defined axis"
   ]
  },
  {
   "cell_type": "code",
   "execution_count": null,
   "metadata": {},
   "outputs": [],
   "source": [
    "axis_nodes = MapAxis.from_nodes(values, name=\"centers\")\n",
    "print(axis_nodes)\n",
    "\n",
    "print(f\"Axis bin centers: {axis_nodes.center}\")\n",
    "print(f\"Axis bin edges: {axis_nodes.edges}\")"
   ]
  },
  {
   "cell_type": "markdown",
   "metadata": {},
   "source": [
    "### Interpolation\n",
    "\n",
    "Axes can support different interpolation schemes: linear, log or sqrt. This defines the position of the bin center with respect to the edges.\n",
    "\n",
    "The interpolation scheme will be used by the `~gammapy.maps.Map` to perform interpolation over non-spatial axes."
   ]
  },
  {
   "cell_type": "code",
   "execution_count": null,
   "metadata": {},
   "outputs": [],
   "source": [
    "values = np.logspace(0,2,5)*u.TeV\n",
    "axis_edges = MapAxis.from_edges(values, name=\"edges\", interp=\"log\")\n",
    "\n",
    "print(f\"Axis bin centers: {axis_edges.center}\")\n",
    "print(f\"Axis bin edges: {axis_edges.edges}\")"
   ]
  },
  {
   "cell_type": "markdown",
   "metadata": {},
   "source": [
    "### Energy axes\n",
    "\n",
    "The most common non spatial axis represents energy. A specialized factory method can be used to create them: `~gammapy.maps.MapAxis.from_energy_bounds()`.\n",
    "By default, it creates an edge-type energy axis with TeV unit and log interpolation scheme."
   ]
  },
  {
   "cell_type": "code",
   "execution_count": null,
   "metadata": {},
   "outputs": [],
   "source": [
    "energy_axis = MapAxis.from_energy_bounds(1*u.GeV, 1*u.TeV, 5)\n",
    "print(energy_axis)"
   ]
  },
  {
   "cell_type": "markdown",
   "metadata": {},
   "source": [
    "In gammapy, we distinguish between reconstructed energy (measured by the instrument) and true energy (that of the incident photon) when describing measured quantities and instrument response functions. We specify the latter with the axis name 'energy_true'."
   ]
  },
  {
   "cell_type": "code",
   "execution_count": null,
   "metadata": {},
   "outputs": [],
   "source": [
    "true_energy_axis = MapAxis.from_energy_bounds(1*u.GeV, 1*u.TeV, 5, name=\"energy_true\")\n",
    "print(true_energy_axis)"
   ]
  },
  {
   "cell_type": "markdown",
   "metadata": {},
   "source": [
    "## Geometries\n",
    "\n",
    "Gammapy uses the `Geom` class to deal with spatial coordinates on the sphere."
   ]
  },
  {
   "cell_type": "markdown",
   "metadata": {},
   "source": [
    "### World Coordinate System geometries\n",
    "\n",
    "The Geom object can be seen as a generalization of an astropy.wcs.WCS object, providing the information on how the data maps to physical coordinate systems. In some cases e.g. when creating many maps with the same WCS geometry it can be advantegeous to first create the map geometry independent of the map object itsself:"
   ]
  },
  {
   "cell_type": "code",
   "execution_count": null,
   "metadata": {},
   "outputs": [],
   "source": []
  }
 ],
 "metadata": {
  "kernelspec": {
   "display_name": "Python 3",
   "language": "python",
   "name": "python3"
  },
  "language_info": {
   "codemirror_mode": {
    "name": "ipython",
    "version": 3
   },
   "file_extension": ".py",
   "mimetype": "text/x-python",
   "name": "python",
   "nbconvert_exporter": "python",
   "pygments_lexer": "ipython3",
   "version": "3.7.0"
  }
 },
 "nbformat": 4,
 "nbformat_minor": 4
}
